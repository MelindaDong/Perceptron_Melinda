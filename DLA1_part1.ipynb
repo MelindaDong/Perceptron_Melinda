{
 "cells": [
  {
   "cell_type": "code",
   "execution_count": 1,
   "metadata": {},
   "outputs": [],
   "source": [
    "%matplotlib inline\n",
    "import torch\n",
    "from sklearn.datasets import load_svmlight_file\n",
    "import numpy as np\n"
   ]
  },
  {
   "cell_type": "code",
   "execution_count": 4,
   "metadata": {},
   "outputs": [],
   "source": [
    "from random import random, seed\n",
    "np.random.seed(1)\n",
    "shuffle_index = np.arange(768)\n",
    "np.random.shuffle(shuffle_index)"
   ]
  },
  {
   "cell_type": "code",
   "execution_count": 5,
   "metadata": {},
   "outputs": [
    {
     "data": {
      "text/plain": [
       "(torch.Size([768, 8]), torch.Size([768]))"
      ]
     },
     "execution_count": 5,
     "metadata": {},
     "output_type": "execute_result"
    }
   ],
   "source": [
    "diabetes_features,diabetes_labels = load_svmlight_file('diabetes_scale.txt')\n",
    "\n",
    "# convert data into tensor format\n",
    "X = torch.from_numpy(diabetes_features.todense()[shuffle_index])\n",
    "y = torch.from_numpy(diabetes_labels[shuffle_index])\n",
    "\n",
    "X = X.to(torch.float32)\n",
    "y = y.to(torch.float32)\n",
    "\n",
    "X.shape, y.shape"
   ]
  },
  {
   "cell_type": "code",
   "execution_count": 6,
   "metadata": {},
   "outputs": [],
   "source": [
    "# get the first 500 dataset as training and the rest as testing\n",
    "train_X, test_X = X[:500], X[500:]\n",
    "train_y, test_y = y[:500], y[500:]\n",
    "\n"
   ]
  },
  {
   "cell_type": "code",
   "execution_count": 7,
   "metadata": {},
   "outputs": [
    {
     "data": {
      "text/plain": [
       "Counter({1.0: 328, -1.0: 172})"
      ]
     },
     "execution_count": 7,
     "metadata": {},
     "output_type": "execute_result"
    }
   ],
   "source": [
    "from collections import Counter\n",
    "Counter(train_y.numpy())\n"
   ]
  },
  {
   "cell_type": "markdown",
   "metadata": {},
   "source": [
    "## primitive perceptron"
   ]
  },
  {
   "cell_type": "markdown",
   "metadata": {},
   "source": [
    "#### try to initialize w, b as 0"
   ]
  },
  {
   "cell_type": "code",
   "execution_count": 9,
   "metadata": {},
   "outputs": [
    {
     "data": {
      "text/plain": [
       "(tensor([0., 0., 0., 0., 0., 0., 0., 0.]), tensor([0.]))"
      ]
     },
     "execution_count": 9,
     "metadata": {},
     "output_type": "execute_result"
    }
   ],
   "source": [
    "# initialize W and b as 0\n",
    "\n",
    "w0 = torch.zeros(size=(8,), requires_grad= False)\n",
    "b0 = torch.zeros(1, requires_grad= False)\n",
    "\n",
    "w0,b0"
   ]
  },
  {
   "cell_type": "code",
   "execution_count": 10,
   "metadata": {},
   "outputs": [],
   "source": [
    "# define accuracy function\n",
    "def accuracy(X, y, w, b):\n",
    "    acc_num = 0\n",
    "    for i in range(X.shape[0]):\n",
    "        temp = torch.dot(X[i] , w) + b\n",
    "        if torch.sign(temp) == y[i]:\n",
    "            acc_num = acc_num + 1\n",
    "\n",
    "    return acc_num/X.shape[0]\n"
   ]
  },
  {
   "cell_type": "code",
   "execution_count": 11,
   "metadata": {},
   "outputs": [
    {
     "data": {
      "text/plain": [
       "0.0"
      ]
     },
     "execution_count": 11,
     "metadata": {},
     "output_type": "execute_result"
    }
   ],
   "source": [
    "# accuracy of parameters as 0\n",
    "accuracy(train_X, train_y, w0, b0)"
   ]
  },
  {
   "cell_type": "code",
   "execution_count": 12,
   "metadata": {},
   "outputs": [],
   "source": [
    "# define primitive perceptron\n",
    "def primitive(X,y,w,b):\n",
    "    for i in range(X.shape[0]):\n",
    "        if (y[i] * (torch.dot(X[i] , w)) + b) <= 0 :\n",
    "            w = w + y[i] * X[i]\n",
    "            b = b + y[i] \n",
    "        else:\n",
    "            continue\n",
    "    return w,b"
   ]
  },
  {
   "cell_type": "code",
   "execution_count": 13,
   "metadata": {},
   "outputs": [
    {
     "data": {
      "text/plain": [
       "(tensor([-1.5882, -2.0553,  0.4918, -0.2727,  0.5319, -0.6185, -0.2784, -0.5667]),\n",
       " tensor([3.]))"
      ]
     },
     "execution_count": 13,
     "metadata": {},
     "output_type": "execute_result"
    }
   ],
   "source": [
    "# W,b after one round update\n",
    "w0, b0 = primitive(train_X, train_y, w0, b0)\n",
    "w0, b0"
   ]
  },
  {
   "cell_type": "code",
   "execution_count": 14,
   "metadata": {},
   "outputs": [
    {
     "name": "stdout",
     "output_type": "stream",
     "text": [
      "training accuracy: 0.658, test accuracy: 0.6417910447761194\n"
     ]
    }
   ],
   "source": [
    "# train and test accuracy of primitive model with parameters initialized as 0\n",
    "print(f'training accuracy: {accuracy(train_X, train_y, w0, b0)}, test accuracy: {accuracy(test_X, test_y, w0, b0)}')"
   ]
  },
  {
   "cell_type": "markdown",
   "metadata": {},
   "source": [
    "#### initialize w, b as random number(normal distribution)"
   ]
  },
  {
   "cell_type": "code",
   "execution_count": 16,
   "metadata": {},
   "outputs": [
    {
     "data": {
      "text/plain": [
       "(tensor([ 0.0154, -0.0029, -0.0218,  0.0057, -0.0108, -0.0140,  0.0040,  0.0084]),\n",
       " tensor([-0.0072]))"
      ]
     },
     "execution_count": 16,
     "metadata": {},
     "output_type": "execute_result"
    }
   ],
   "source": [
    "# initialize W and b as normal distributed\n",
    "torch.manual_seed(0)\n",
    "\n",
    "w = torch.normal(0, 0.01, size = (8,), requires_grad= False)\n",
    "b = torch.normal(0, 0.01, size = (1,), requires_grad= False)\n",
    "w,b"
   ]
  },
  {
   "cell_type": "code",
   "execution_count": 17,
   "metadata": {},
   "outputs": [
    {
     "data": {
      "text/plain": [
       "0.368"
      ]
     },
     "execution_count": 17,
     "metadata": {},
     "output_type": "execute_result"
    }
   ],
   "source": [
    "# accuracy before training\n",
    "accuracy(train_X, train_y, w, b)"
   ]
  },
  {
   "cell_type": "code",
   "execution_count": 18,
   "metadata": {},
   "outputs": [
    {
     "data": {
      "text/plain": [
       "(tensor([-1.0434, -2.4552,  0.7979, -0.1761,  0.3603, -1.6265,  0.4891, -1.2916]),\n",
       " tensor([1.9928]))"
      ]
     },
     "execution_count": 18,
     "metadata": {},
     "output_type": "execute_result"
    }
   ],
   "source": [
    "# w,b after one round training\n",
    "w2, b2 = primitive(train_X, train_y, w, b)\n",
    "w2, b2"
   ]
  },
  {
   "cell_type": "code",
   "execution_count": 19,
   "metadata": {},
   "outputs": [
    {
     "name": "stdout",
     "output_type": "stream",
     "text": [
      "training accuracy: 0.682, test accuracy: 0.664179104477612\n"
     ]
    }
   ],
   "source": [
    "# train and test accuracy of primitive model with parameters initialized as random number(normal distributed)\n",
    "print(f'training accuracy: {accuracy(train_X, train_y, w2, b2)}, test accuracy: {accuracy(test_X, test_y, w2, b2)}')\n"
   ]
  },
  {
   "cell_type": "code",
   "execution_count": 20,
   "metadata": {},
   "outputs": [],
   "source": [
    "# run 10 epochs\n",
    "\n",
    "train_acc_list =[]\n",
    "test_acc_list =[]\n",
    "w_list = []\n",
    "b_list = []\n",
    "\n",
    "for i in range(10):\n",
    "    w, b = primitive(train_X, train_y, w, b)\n",
    "    w_list.append(w)\n",
    "    b_list.append(b)\n",
    "\n",
    "    tem_train_acc = accuracy(train_X, train_y, w, b)\n",
    "    tem_test_acc = accuracy(test_X, test_y, w, b)\n",
    "    train_acc_list.append(tem_train_acc)\n",
    "    test_acc_list.append(tem_test_acc)\n"
   ]
  },
  {
   "cell_type": "code",
   "execution_count": 21,
   "metadata": {},
   "outputs": [
    {
     "data": {
      "image/png": "[encoded data removed]",
      "text/plain": [
       "<Figure size 432x288 with 1 Axes>"
      ]
     },
     "metadata": {
      "needs_background": "light"
     },
     "output_type": "display_data"
    }
   ],
   "source": [
    "from cProfile import label\n",
    "import matplotlib.pyplot as plt\n",
    "\n",
    "plt.plot(range(10), train_acc_list, label=\"train\")\n",
    "plt.plot(range(10), test_acc_list, label = \"test\")\n",
    "plt.legend()\n",
    "plt.title(\"primitive model\")\n",
    "plt.show()"
   ]
  },
  {
   "cell_type": "code",
   "execution_count": 22,
   "metadata": {},
   "outputs": [
    {
     "data": {
      "text/plain": [
       "(0.664179104477612,\n",
       " tensor([-1.0434, -2.4552,  0.7979, -0.1761,  0.3603, -1.6265,  0.4891, -1.2916]),\n",
       " tensor([1.9928]))"
      ]
     },
     "execution_count": 22,
     "metadata": {},
     "output_type": "execute_result"
    }
   ],
   "source": [
    "max_test_value = max(test_acc_list)\n",
    "max_index = test_acc_list.index(max_test_value)\n",
    "best_W = w_list[max_index]\n",
    "best_b = b_list[max_index]\n",
    "\n",
    "max_test_value, best_W, best_b"
   ]
  },
  {
   "cell_type": "markdown",
   "metadata": {},
   "source": [
    "# compare with sklearn perceptron model"
   ]
  },
  {
   "cell_type": "code",
   "execution_count": 23,
   "metadata": {},
   "outputs": [
    {
     "data": {
      "text/plain": [
       "0.7"
      ]
     },
     "execution_count": 23,
     "metadata": {},
     "output_type": "execute_result"
    }
   ],
   "source": [
    "from sklearn.linear_model import Perceptron\n",
    "\n",
    "clf = Perceptron(tol=1e-3, random_state=0)\n",
    "clf.fit(train_X, train_y)\n",
    "Perceptron()\n",
    "clf.score(train_X, train_y)\n"
   ]
  },
  {
   "cell_type": "code",
   "execution_count": 25,
   "metadata": {},
   "outputs": [
    {
     "data": {
      "text/plain": [
       "0.6865671641791045"
      ]
     },
     "execution_count": 25,
     "metadata": {},
     "output_type": "execute_result"
    }
   ],
   "source": [
    "clf.score(test_X, test_y)"
   ]
  },
  {
   "cell_type": "code",
   "execution_count": 26,
   "metadata": {},
   "outputs": [
    {
     "data": {
      "text/plain": [
       "Counter({-1.0: 256, 1.0: 244})"
      ]
     },
     "execution_count": 26,
     "metadata": {},
     "output_type": "execute_result"
    }
   ],
   "source": [
    "Counter(clf.predict(train_X))"
   ]
  },
  {
   "cell_type": "code",
   "execution_count": null,
   "metadata": {},
   "outputs": [],
   "source": []
  }
 ],
 "metadata": {
  "kernelspec": {
   "display_name": "Python 3.9.13 ('base')",
   "language": "python",
   "name": "python3"
  },
  "language_info": {
   "codemirror_mode": {
    "name": "ipython",
    "version": 3
   },
   "file_extension": ".py",
   "mimetype": "text/x-python",
   "name": "python",
   "nbconvert_exporter": "python",
   "pygments_lexer": "ipython3",
   "version": "3.9.13"
  },
  "orig_nbformat": 4,
  "vscode": {
   "interpreter": {
    "hash": "94bb94072da1bbe2180f174c68ece2cc111f90956fb8a8d56a55962b2e904e45"
   }
  }
 },
 "nbformat": 4,
 "nbformat_minor": 2
}
